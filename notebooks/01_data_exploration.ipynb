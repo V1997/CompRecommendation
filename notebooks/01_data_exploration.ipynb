```json
{
 "cells": [
  {
   "cell_type": "markdown",
   "metadata": {},
   "source": [
    "# Real Estate Appraisal Dataset Exploration\n",
    "\n",
    "This notebook explores the structure and characteristics of the real estate appraisal dataset."
   ]
  },
  {
   "cell_type": "code",
   "execution_count": null,
   "metadata": {},
   "outputs": [],
   "source": [
    "import sys\n",
    "sys.path.append('../')\n",
    "\n",
    "import pandas as pd\n",
    "import numpy as np\n",
    "import matplotlib.pyplot as plt\n",
    "import seaborn as sns\n",
    "from data_loader import load_appraisal_dataset, explore_dataset_structure, extract_property_features, analyze_data_quality\n",
    "\n",
    "# Set display options\n",
    "pd.set_option('display.max_columns', None)\n",
    "pd.set_option('display.max_rows', 100)\n",
    "\n",
    "# Set plot style\n",
    "plt.style.use('seaborn-v0_8')\n",
    "sns.set_palette('husl')"
   ]
  },
  {
   "cell_type": "markdown",
   "metadata": {},
   "source": [
    "## 1. Load and Explore Dataset Structure"
   ]
  },
  {
   "cell_type": "code",
   "execution_count": null,
   "metadata": {},
   "outputs": [],
   "source": [
    "# Load the dataset\n",
    "print(\"Loading appraisal dataset...\")\n",
    "dataset = load_appraisal_dataset('../appraisals_dataset.json')\n",
    "\n",
    "# Explore structure\n",
    "structure = explore_dataset_structure(dataset)\n",
    "print(\"\\n=== Dataset Structure ===\")\n",
    "for key, value in structure.items():\n",
    "    print(f\"{key}: {value}\")"
   ]
  },
  {
   "cell_type": "markdown",
   "metadata": {},
   "source": [
    "## 2. Extract and Analyze Property Features"
   ]
  },
  {
   "cell_type": "code",
   "execution_count": null,
   "metadata": {},
   "outputs": [],
   "source": [
    "# Extract property features\n",
    "print(\"Extracting property features...\")\n",
    "properties_df = extract_property_features(dataset)\n",
    "\n",
    "# Display basic info\n",
    "print(f\"\\nExtracted {len(properties_df)} property records\")\n",
    "print(f\"Columns: {list(properties_df.columns)}\")\n",
    "properties_df.head()"
   ]
  },
  {
   "cell_type": "markdown",
   "metadata": {},
   "source": [
    "## 3. Data Quality Analysis"
   ]
  },
  {
   "cell_type": "code",
   "execution_count": null,
   "metadata": {},
   "outputs": [],
   "source": [
    "# Analyze data quality\n",
    "quality = analyze_data_quality(properties_df)\n",
    "\n",
    "print(\"=== Data Quality Summary ===\")\n",
    "print(f\"Total records: {quality['shape'][0]}\")\n",
    "print(f\"Total features: {quality['shape'][1]}\")\n",
    "print(f\"Duplicate records: {quality['duplicates']['total_duplicates']}\")\n",
    "\n",
    "# Missing values visualization\n",
    "missing_data = pd.DataFrame([\n",
    "    {'column': col, 'missing_count': stats['count'], 'missing_percentage': stats['percentage']}\n",
    "    for col, stats in quality['missing_values'].items()\n",
    "])\n",
    "\n",
    "plt.figure(figsize=(12, 8))\n",
    "missing_data_sorted = missing_data.sort_values('missing_percentage', ascending=True)\n",
    "plt.barh(missing_data_sorted['column'], missing_data_sorted['missing_percentage'])\n",
    "plt.xlabel('Missing Data Percentage')\n",
    "plt.title('Missing Data by Column')\n",
    "plt.tight_layout()\n",
    "plt.show()"
   ]
  },
  {
   "cell_type": "markdown",
   "metadata": {},
   "source": [
    "## 4. Property Types Distribution"
   ]
  },
  {
   "cell_type": "code",
   "execution_count": null,
   "metadata": {},
   "outputs": [],
   "source": [
    "# Analyze property types\n",
    "if 'property_type' in properties_df.columns:\n",
    "    prop_type_dist = properties_df['property_type'].value_counts()\n",
    "    \n",
    "    plt.figure(figsize=(10, 6))\n",
    "    prop_type_dist.plot(kind='bar')\n",
    "    plt.title('Distribution of Property Types')\n",
    "    plt.xlabel('Property Type')\n",
    "    plt.ylabel('Count')\n",
    "    plt.xticks(rotation=45)\n",
    "    plt.tight_layout()\n",
    "    plt.show()\n",
    "    \n",
    "    print(\"Property Type Distribution:\")\n",
    "    for prop_type, count in prop_type_dist.items():\n",
    "        print(f\"{prop_type}: {count} ({count/len(properties_df)*100:.1f}%)\")"
   ]
  },
  {
   "cell_type": "markdown",
   "metadata": {},
   "source": [
    "## 5. Numerical Features Analysis"
   ]
  },
  {
   "cell_type": "code",
   "execution_count": null,
   "metadata": {},
   "outputs": [],
   "source": [
    "# Identify numerical columns\n",
    "numerical_cols = properties_df.select_dtypes(include=[np.number]).columns\n",
    "print(f\"Numerical columns: {list(numerical_cols)}\")\n",
    "\n",
    "if len(numerical_cols) > 0:\n",
    "    # Display summary statistics\n",
    "    print(\"\\n=== Numerical Features Summary ===\")\n",
    "    properties_df[numerical_cols].describe()\n",
    "    \n",
    "    # Create correlation matrix for numerical features\n",
    "    if len(numerical_cols) > 1:\n",
    "        plt.figure(figsize=(12, 10))\n",
    "        correlation_matrix = properties_df[numerical_cols].corr()\n",
    "        sns.heatmap(correlation_matrix, annot=True, cmap='coolwarm', center=0)\n",
    "        plt.title('Correlation Matrix of Numerical Features')\n",
    "        plt.tight_layout()\n",
    "        plt.show()"
   ]
  },
  {
   "cell_type": "markdown",
   "metadata": {},
   "source": [
    "## 6. Key Features for Property Comparison"
   ]
  },
  {
   "cell_type": "code",
   "execution_count": null,
   "metadata": {},
   "outputs": [],
   "source": [
    "# Identify key features commonly used in real estate valuation\n",
    "key_features = [\n",
    "    'square_feet', 'lot_size', 'bedrooms', 'bathrooms', 'year_built',\n",
    "    'sale_price', 'latitude', 'longitude', 'property_type'\n",
    "]\n",
    "\n",
    "available_key_features = [f for f in key_features if f in properties_df.columns]\n",
    "print(f\"Available key features: {available_key_features}\")\n",
    "\n",
    "if available_key_features:\n",
    "    # Analyze completeness of key features\n",
    "    completeness = {}\n",
    "    for feature in available_key_features:\n",
    "        non_null_count = properties_df[feature].notna().sum()\n",
    "        completeness[feature] = non_null_count / len(properties_df) * 100\n",
    "    \n",
    "    plt.figure(figsize=(10, 6))\n",
    "    features = list(completeness.keys())\n",
    "    percentages = list(completeness.values())\n",
    "    \n",
    "    plt.bar(features, percentages)\n",
    "    plt.title('Data Completeness for Key Features')\n",
    "    plt.xlabel('Feature')\n",
    "    plt.ylabel('Completeness Percentage')\n",
    "    plt.xticks(rotation=45)\n",
    "    plt.ylim(0, 100)\n",
    "    \n",
    "    # Add percentage labels on bars\n",
    "    for i, v in enumerate(percentages):\n",
    "        plt.text(i, v + 1, f'{v:.1f}%', ha='center')\n",
    "    \n",
    "    plt.tight_layout()\n",
    "    plt.show()"
   ]
  },
  {
   "cell_type": "markdown",
   "metadata": {},
   "source": [
    "## 7. Save Processed Data"
   ]
  },
  {
   "cell_type": "code",
   "execution_count": null,
   "metadata": {},
   "outputs": [],
   "source": [
    "# Save processed data for future use\n",
    "output_file = '../data/processed/properties_initial.csv'\n",
    "properties_df.to_csv(output_file, index=False)\n",
    "print(f\"Processed data saved to: {output_file}\")\n",
    "\n",
    "# Save quality analysis\n",
    "import json\n",
    "quality_file = '../data/processed/data_quality_analysis.json'\n",
    "with open(quality_file, 'w') as f:\n",
    "    json.dump(quality, f, indent=2, default=str)\n",
    "print(f\"Quality analysis saved to: {quality_file}\")\n",
    "\n",
    "print(\"\\n=== Next Steps ===\")\n",
    "print(\"1. Data cleaning and preprocessing\")\n",
    "print(\"2. Feature engineering for property comparison\")\n",
    "print(\"3. Similarity search algorithm implementation\")\n",
    "print(\"4. Ranking model development\")\n",
    "print(\"5. Explainability integration\")"
   ]
  }
 ],
 "metadata": {
  "kernelspec": {
   "display_name": "Python 3",
   "language": "python",
   "name": "python3"
  },
  "language_info": {
   "codemirror_mode": {
    "name": "ipython",
    "version": 3
   },
   "file_extension": ".py",
   "mimetype": "text/x-python",
   "name": "python",
   "nbconvert_exporter": "python",
   "pygments_lexer": "ipython3",
   "version": "3.8.0"
  }
 },
 "nbformat": 4,
 "nbformat_minor": 4
}
```